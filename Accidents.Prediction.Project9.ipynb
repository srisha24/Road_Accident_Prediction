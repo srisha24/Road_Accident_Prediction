{
 "cells": [
  {
   "cell_type": "code",
   "execution_count": 1,
   "metadata": {},
   "outputs": [
    {
     "name": "stdout",
     "output_type": "stream",
     "text": [
      "The dataset has 36314 rows and 10 columns\n",
      "[                                                wkt_geom  code  severity  \\\n",
      "28801  POINT(6025204.69674642663449049 2164020.827542...   201         3   \n",
      "28802  POINT(6074032.41969816666096449 2002844.616964...   243         2   \n",
      "28803  POINT(6120230.78295697458088398 2136079.965820...   243         3   \n",
      "28804  POINT(6037333.82711438369005919 2162866.495584...   201         3   \n",
      "28805  POINT(6059742.67944238521158695 2110214.996832...   243         3   \n",
      "...                                                  ...   ...       ...   \n",
      "35995  POINT(6142834.84498565644025803 1941254.761029...   243         3   \n",
      "35996  POINT(6148605.75811859872192144 1991026.957167...   201         3   \n",
      "35997  POINT(6148701.72334411088377237 1990999.643419...   201         3   \n",
      "35998  POINT(6104758.54560113791376352 2021061.811918...   243         2   \n",
      "35999  POINT(6154629.43239638209342957 2081091.306250...   201         3   \n",
      "\n",
      "                    time        lat  desc        lon  \\\n",
      "28801  01/27/14 04:29 PM  77.923390   NaN  26.640030   \n",
      "28802  01/27/14 04:33 PM  77.483357   NaN  26.819317   \n",
      "28803  01/27/14 04:34 PM  77.851394   NaN  26.971013   \n",
      "28804  01/27/14 04:39 PM  77.920875   NaN  26.682150   \n",
      "28805  01/27/14 04:41 PM  77.777473   NaN  26.763210   \n",
      "...                  ...        ...   ...        ...   \n",
      "35995  03/28/14 01:07 AM  77.317377   NaN  27.059678   \n",
      "35996  03/28/14 01:10 AM  77.454301   NaN  27.076918   \n",
      "35997  03/28/14 01:14 AM  77.454230   NaN  27.077250   \n",
      "35998  03/28/14 01:15 AM  77.534850   NaN  26.924140   \n",
      "35999  03/28/14 01:25 AM  77.701877   NaN  27.093003   \n",
      "\n",
      "                              name  clust  NN  \n",
      "28801                  Accident(s)     29   5  \n",
      "28802  Accident. Left lane blocked     13  76  \n",
      "28803  Accident. Left lane blocked     32  88  \n",
      "28804                  Accident(s)     29  21  \n",
      "28805  Accident. Left lane blocked     34  63  \n",
      "...                            ...    ...  ..  \n",
      "35995  Accident. Left lane blocked     26  78  \n",
      "35996                  Accident(s)     24  72  \n",
      "35997                  Accident(s)     24  11  \n",
      "35998  Accident. Left lane blocked     15  19  \n",
      "35999                  Accident(s)     11  70  \n",
      "\n",
      "[7199 rows x 10 columns],                                                 wkt_geom  code  severity  \\\n",
      "0      POINT(6119950.59451242536306381 1886366.970110...   201         2   \n",
      "1      POINT(6163265.98209197819232941 2195198.763392...   201         2   \n",
      "2      POINT(6156011.13359668850898743 2064637.280291...   201         3   \n",
      "3      POINT(6040154.25608104187995195 2127971.038348...   201         3   \n",
      "4      POINT(6160755.65850416570901871 2058394.601888...   243         3   \n",
      "...                                                  ...   ...       ...   \n",
      "21595  POINT(6191339.01821187138557434 2187683.276613...   201         2   \n",
      "21596  POINT(6036804.65793470293283463 2127300.214826...   243         3   \n",
      "21597  POINT(6120230.78295697458088398 2136079.965820...   201         3   \n",
      "21598  POINT(6090039.87181497551500797 2075072.405213...   201         2   \n",
      "21599  POINT(6114574.51744203828275204 2146321.145322...   201         3   \n",
      "\n",
      "                    time        lat  desc        lon  \\\n",
      "0      04/10/13 08:00 AM  77.165655   NaN  26.984052   \n",
      "1      04/10/13 05:30 PM  78.015568   NaN  27.117024   \n",
      "2      04/10/13 05:55 PM  77.656750   NaN  27.098630   \n",
      "3      04/10/13 06:17 PM  77.825210   NaN  26.694260   \n",
      "4      04/10/13 06:19 PM  77.639801   NaN  27.115337   \n",
      "...                  ...        ...   ...        ...   \n",
      "21595  11/14/13 02:32 AM  77.996030   NaN  27.214820   \n",
      "21596  11/14/13 02:43 AM  77.823190   NaN  26.682710   \n",
      "21597  11/14/13 02:48 AM  77.851394   NaN  26.971013   \n",
      "21598  11/14/13 02:50 AM  77.682471   NaN  26.870142   \n",
      "21599  11/14/13 03:17 AM  77.879260   NaN  26.950838   \n",
      "\n",
      "                              name  clust   NN  \n",
      "0                      Accident(s)     31   11  \n",
      "1                      Accident(s)     14    3  \n",
      "2                      Accident(s)     11   52  \n",
      "3                      Accident(s)     28   11  \n",
      "4      Accident. Left lane blocked     11   51  \n",
      "...                            ...    ...  ...  \n",
      "21595                  Accident(s)     36   65  \n",
      "21596  Accident. Left lane blocked     28  123  \n",
      "21597                  Accident(s)     32   88  \n",
      "21598                  Accident(s)      1    3  \n",
      "21599                  Accident(s)      8   28  \n",
      "\n",
      "[21600 rows x 10 columns]]\n",
      "                                                wkt_geom  code  severity  \\\n",
      "21601  POINT(6203488.92619493324309587 2105987.102857...   201         2   \n",
      "21602  POINT(6037138.44924600422382355 2127366.208735...   243         3   \n",
      "21603  POINT(6047040.47897357866168022 2190444.554703...   201         3   \n",
      "21604  POINT(6118405.624413987621665 2140433.34619574...   243         3   \n",
      "21605  POINT(6010648.97082179505378008 2109472.532664...   201         3   \n",
      "...                                                  ...   ...       ...   \n",
      "28795  POINT(6040119.58601838629692793 2147266.725310...   201         3   \n",
      "28796  POINT(6151152.07637193705886602 1916860.712459...   201         2   \n",
      "28797  POINT(6102138.53823527507483959 1977079.234286...   201         2   \n",
      "28798  POINT(6172853.64372276607900858 1953566.223362...   244         3   \n",
      "28799  POINT(6105733.69929838459938765 1948086.528532...   243         3   \n",
      "\n",
      "                    time        lat  desc        lon  \\\n",
      "21601  11/14/13 03:18 AM  77.772140   NaN  27.260734   \n",
      "21602  11/14/13 03:18 AM  77.823389   NaN  26.683861   \n",
      "21603  11/14/13 03:19 AM  77.997110   NaN  26.713970   \n",
      "21604  11/14/13 02:42 AM  77.863266   NaN  26.964445   \n",
      "21605  11/14/13 03:28 AM  77.772810   NaN  26.593430   \n",
      "...                  ...        ...   ...        ...   \n",
      "28795  01/27/14 04:02 PM  77.878190   NaN  26.692850   \n",
      "28796  01/27/14 04:03 PM  77.250735   NaN  27.089540   \n",
      "28797  01/27/14 04:11 PM  77.413950   NaN  26.917670   \n",
      "28798  01/27/14 04:25 PM  77.352410   NaN  27.162290   \n",
      "28799  01/27/14 04:28 PM  77.334500   NaN  26.931720   \n",
      "\n",
      "                              name  clust   NN  \n",
      "21601                  Accident(s)     23    9  \n",
      "21602  Accident. Left lane blocked     28   77  \n",
      "21603                  Accident(s)     17   34  \n",
      "21604  Accident. Left lane blocked     32   78  \n",
      "21605                  Accident(s)     38   85  \n",
      "...                            ...    ...  ...  \n",
      "28795                  Accident(s)     29  139  \n",
      "28796                  Accident(s)     26   27  \n",
      "28797                  Accident(s)     33   34  \n",
      "28798   Accident. Shoulder blocked      9    5  \n",
      "28799  Accident. Left lane blocked     30   14  \n",
      "\n",
      "[7199 rows x 10 columns]\n"
     ]
    }
   ],
   "source": [
    "\n",
    "%matplotlib inline\n",
    "import warnings\n",
    "warnings.filterwarnings('ignore')\n",
    "import pandas as pd\n",
    "import numpy as np\n",
    "import matplotlib.pyplot as plt\n",
    "import seaborn as sns\n",
    "a=[\" \",\" \"]\n",
    "path = \"C:/Users/Unique/Desktop/Accident-Prediction-master/\"\n",
    "df = pd.read_csv( path + \"accidents.csv\" )\n",
    "print (\"The dataset has %d rows and %d columns\" % (df.shape[0] , df.shape[1]))\n",
    "a[0]=df.iloc[28801:36000,:]\n",
    "a[1]=df.iloc[0:21600,:]\n",
    "b=df.iloc[21601:28800,:]\n",
    "print(a)\n",
    "print(b)\n",
    "#df = df.drop(['desc'], axis=1)\n",
    "#df['lat'] = df['lat'] + 40\n",
    "#df['lon'] = df['lon'] + 149\n",
    "#df['desc'] = 'NA'\n",
    "#df.to_csv('export.csv',index=False )\n"
   ]
  },
  {
   "cell_type": "code",
   "execution_count": 2,
   "metadata": {},
   "outputs": [
    {
     "data": {
      "image/png": "[encoded data removed]",
      "text/plain": [
       "<Figure size 432x288 with 1 Axes>"
      ]
     },
     "metadata": {
      "needs_background": "light"
     },
     "output_type": "display_data"
    }
   ],
   "source": [
    "#characterstick graph\n",
    "#severity vs count\n",
    "\n",
    "sns.countplot(y = \"severity\" , data = df )\n",
    "plt.tight_layout()"
   ]
  },
  {
   "cell_type": "code",
   "execution_count": 3,
   "metadata": {},
   "outputs": [
    {
     "data": {
      "text/html": [
       "<div>\n",
       "<style scoped>\n",
       "    .dataframe tbody tr th:only-of-type {\n",
       "        vertical-align: middle;\n",
       "    }\n",
       "\n",
       "    .dataframe tbody tr th {\n",
       "        vertical-align: top;\n",
       "    }\n",
       "\n",
       "    .dataframe thead th {\n",
       "        text-align: right;\n",
       "    }\n",
       "</style>\n",
       "<table border=\"1\" class=\"dataframe\">\n",
       "  <thead>\n",
       "    <tr style=\"text-align: right;\">\n",
       "      <th></th>\n",
       "      <th>count</th>\n",
       "    </tr>\n",
       "  </thead>\n",
       "  <tbody>\n",
       "    <tr>\n",
       "      <td>2</td>\n",
       "      <td>20944</td>\n",
       "    </tr>\n",
       "    <tr>\n",
       "      <td>3</td>\n",
       "      <td>15296</td>\n",
       "    </tr>\n",
       "    <tr>\n",
       "      <td>4</td>\n",
       "      <td>54</td>\n",
       "    </tr>\n",
       "    <tr>\n",
       "      <td>1</td>\n",
       "      <td>19</td>\n",
       "    </tr>\n",
       "    <tr>\n",
       "      <td>0</td>\n",
       "      <td>1</td>\n",
       "    </tr>\n",
       "  </tbody>\n",
       "</table>\n",
       "</div>"
      ],
      "text/plain": [
       "   count\n",
       "2  20944\n",
       "3  15296\n",
       "4     54\n",
       "1     19\n",
       "0      1"
      ]
     },
     "execution_count": 3,
     "metadata": {},
     "output_type": "execute_result"
    }
   ],
   "source": [
    "#here we check for outlier and boundries\n",
    "\n",
    "pd.DataFrame( {\"count\": df[\"severity\"].value_counts().values } , index = df[\"severity\"].value_counts().index )"
   ]
  },
  {
   "cell_type": "code",
   "execution_count": 4,
   "metadata": {},
   "outputs": [],
   "source": [
    "df = df.loc[df[\"severity\"] >  1].loc[df[\"severity\"] < 4]"
   ]
  },
  {
   "cell_type": "code",
   "execution_count": 5,
   "metadata": {},
   "outputs": [],
   "source": [
    "df[\"month\"] = df[\"time\"].apply(lambda x:int(x[:2]))\n",
    "df[\"day\"] = df[\"time\"].apply(lambda x:int(x[3:5]))\n",
    "df[\"year\"] = df[\"time\"].apply(lambda x:int(x[6:8]))\n",
    "df[\"hour\"] =  df[\"time\"].apply(lambda x: int(x[9:11]) if str(x)[15] == 'A' else 12 + int(x[9:11])  )\n",
    "df[\"lon\"] = df[\"lon\"].apply(lambda x:abs(x)) #so that multinomialNB works (only with positive features)\n",
    "#creating the date at the datetime format (easier to deal with)\n",
    "df[ \"date\" ]= df[[\"month\" , \"day\" ,\"year\"]].apply(lambda x:pd.datetime(month = x['month'] , day = x['day']  , year = 2000+x[\"year\"]), axis = 1)\n",
    "df[\"weekday\"] =  df[\"date\"].apply(lambda x:x.weekday())\n"
   ]
  },
  {
   "cell_type": "code",
   "execution_count": 6,
   "metadata": {},
   "outputs": [
    {
     "data": {
      "image/png": "[encoded data removed]",
      "text/plain": [
       "<Figure size 432x288 with 1 Axes>"
      ]
     },
     "metadata": {
      "needs_background": "light"
     },
     "output_type": "display_data"
    }
   ],
   "source": [
    "#plotting the dataset with a different color depending on the severity (2,3)\n",
    "#longitude vs lattitude\n",
    "\n",
    "df2 = df.loc[df[\"severity\"] == 2]\n",
    "df3 = df.loc[df[\"severity\"] == 3]\n",
    "\n",
    "xx2 , yy2 = df2[\"lat\"] , -df2[\"lon\"]\n",
    "xx3 , yy3 = df3[\"lat\"] , -df3[\"lon\"]\n",
    "\n",
    "pts2 = plt.scatter(xx2,yy2,color = 'b' )\n",
    "pts3 = plt.scatter(xx3,yy3,color = 'r' )\n",
    "plt.legend((pts2, pts3), ('Severity = 2', 'Severity = 3'),loc='lower left')\n",
    "plt.title(\"Accident Severity Map\")\n",
    "plt.tight_layout()"
   ]
  },
  {
   "cell_type": "code",
   "execution_count": 7,
   "metadata": {},
   "outputs": [
    {
     "data": {
      "image/png": "[encoded data removed]",
      "text/plain": [
       "<Figure size 432x288 with 1 Axes>"
      ]
     },
     "metadata": {
      "needs_background": "light"
     },
     "output_type": "display_data"
    }
   ],
   "source": [
    "#classifiction , hour vs counts\n",
    "\n",
    "sns.countplot(y = \"hour\" , data = df , order = range(1,25))\n",
    "plt.title(\"Number of accidents by hour\")\n",
    "plt.tight_layout()"
   ]
  },
  {
   "cell_type": "code",
   "execution_count": 8,
   "metadata": {},
   "outputs": [
    {
     "data": {
      "image/png": "[encoded data removed]",
      "text/plain": [
       "<Figure size 432x288 with 1 Axes>"
      ]
     },
     "metadata": {
      "needs_background": "light"
     },
     "output_type": "display_data"
    }
   ],
   "source": [
    "#classification , month vs count\n",
    "\n",
    "sns.countplot(y = \"month\" , data = df)\n",
    "plt.title(\"Number of accidents by month\")\n",
    "plt.tight_layout()"
   ]
  },
  {
   "cell_type": "code",
   "execution_count": 9,
   "metadata": {},
   "outputs": [
    {
     "data": {
      "image/png": "[encoded data removed]",
      "text/plain": [
       "<Figure size 432x288 with 1 Axes>"
      ]
     },
     "metadata": {
      "needs_background": "light"
     },
     "output_type": "display_data"
    }
   ],
   "source": [
    "#classification , weekdays vs count\n",
    "\n",
    "sns.countplot(y = \"weekday\" , data = df)\n",
    "plt.title(\"Number of accidents by weekday\")\n",
    "plt.tight_layout()"
   ]
  },
  {
   "cell_type": "code",
   "execution_count": 10,
   "metadata": {
    "scrolled": true
   },
   "outputs": [],
   "source": [
    "X_train=[\" \",\" \"]\n",
    "y_train=[\" \",\" \"]\n",
    "\n",
    "a = df[[\"month\" , \"hour\" , \"year\", \"weekday\" ,\"lon\" , \"lat\"]]\n",
    "b = df[\"severity\"].apply(lambda x:x-2) # shifting to 0-1 values instead of 2-3\n",
    "X_train[0]=df[[\"month\" , \"hour\" , \"year\", \"weekday\" ,\"lon\" , \"lat\"]].iloc[28801:36000,:].values\n",
    "X_train[1]=df[[\"month\" , \"hour\" , \"year\", \"weekday\" ,\"lon\" , \"lat\"]].iloc[0:21600,:].values\n",
    "X_test=df[[\"month\" , \"hour\" , \"year\", \"weekday\" ,\"lon\" , \"lat\"]].iloc[21601:28800,:].values\n",
    "y_train[0]=df[[\"severity\"]].iloc[28801:36000,:].apply(lambda x:x-2).values\n",
    "y_train[1]=df[[\"severity\"]].iloc[0:21600,:].apply(lambda x:x-2).values\n",
    "y_test=df[[\"severity\"]].iloc[21601:28800,:].apply(lambda x:x-2).values\n",
    "#print(X_test)\n",
    "#here we assign test size as 20% of actual data set \n",
    "# random state is set as 42 ( or 1 ) also from the reference of \" The Hitchhiker's Guide to the Galaxy\" \n",
    "# we defined random state to get consistent and same results , regardless of the training iterations \n",
    "# so that the values in the train and test sets are homogenous\n",
    "\n",
    "from sklearn.model_selection import train_test_split \n",
    "#X_train, X_test, y_train, y_test = train_test_split(X, y, test_size=0.20, random_state=42) \n",
    "a_train,a_test,b_train,b_test=train_test_split(a,b,test_size=0.20,random_state=42)"
   ]
  },
  {
   "cell_type": "code",
   "execution_count": 11,
   "metadata": {},
   "outputs": [],
   "source": [
    "#using the metrics package\n",
    "#algorithm's func to print the results\n",
    "from sklearn.metrics import *\n",
    "import warnings\n",
    "warnings.filterwarnings(\"ignore\", category=DeprecationWarning) \n",
    " \n",
    "def printScores(y_test, y_pred, classif_name):    \n",
    "    print (\"--------------  \"  + classif_name + \"  ------------------\")\n",
    "    print (\"recall : %0.2f\" %  recall_score(y_test, y_pred) )\n",
    "    print (\"precision : %0.2f\" %  precision_score(y_test, y_pred))   \n",
    "    print (\"f1 : %0.2f\" %  f1_score(y_test, y_pred))\n",
    "    print (\"accuracy : %0.2f\" %  accuracy_score(y_test, y_pred))\n",
    "    print (\"---------------------------------------------------\")  "
   ]
  },
  {
   "cell_type": "code",
   "execution_count": 12,
   "metadata": {},
   "outputs": [
    {
     "data": {
      "text/html": [
       "<div>\n",
       "<style scoped>\n",
       "    .dataframe tbody tr th:only-of-type {\n",
       "        vertical-align: middle;\n",
       "    }\n",
       "\n",
       "    .dataframe tbody tr th {\n",
       "        vertical-align: top;\n",
       "    }\n",
       "\n",
       "    .dataframe thead th {\n",
       "        text-align: right;\n",
       "    }\n",
       "</style>\n",
       "<table border=\"1\" class=\"dataframe\">\n",
       "  <thead>\n",
       "    <tr style=\"text-align: right;\">\n",
       "      <th></th>\n",
       "      <th>severity</th>\n",
       "    </tr>\n",
       "  </thead>\n",
       "  <tbody>\n",
       "    <tr>\n",
       "      <td>0</td>\n",
       "      <td>20944</td>\n",
       "    </tr>\n",
       "    <tr>\n",
       "      <td>1</td>\n",
       "      <td>15296</td>\n",
       "    </tr>\n",
       "  </tbody>\n",
       "</table>\n",
       "</div>"
      ],
      "text/plain": [
       "   severity\n",
       "0     20944\n",
       "1     15296"
      ]
     },
     "execution_count": 12,
     "metadata": {},
     "output_type": "execute_result"
    }
   ],
   "source": [
    "#basic model to check accurary (worst)\n",
    "\n",
    "sev = b.value_counts()\n",
    "pd.DataFrame(sev)"
   ]
  },
  {
   "cell_type": "code",
   "execution_count": 13,
   "metadata": {},
   "outputs": [
    {
     "name": "stdout",
     "output_type": "stream",
     "text": [
      "worst accuracy:  0.577924944812362\n"
     ]
    }
   ],
   "source": [
    "#here we will calculate the worst accuracy \n",
    "\n",
    "print (\"worst accuracy: \" , max(sev)/float(sum(sev)))"
   ]
  },
  {
   "cell_type": "code",
   "execution_count": 14,
   "metadata": {},
   "outputs": [
    {
     "name": "stdout",
     "output_type": "stream",
     "text": [
      "--------------  tree  ------------------\n",
      "recall : 0.88\n",
      "precision : 0.87\n",
      "f1 : 0.88\n",
      "accuracy : 0.89\n",
      "---------------------------------------------------\n"
     ]
    }
   ],
   "source": [
    "#Decision tree\n",
    "\n",
    "from sklearn import tree\n",
    "clf = tree.DecisionTreeClassifier()\n",
    "for i in range(0,2):\n",
    "    clf.fit(X_train[i],y_train[i])\n",
    "y_pred = clf.predict(X_test)\n",
    "printScores(y_test, y_pred, \"tree\")"
   ]
  },
  {
   "cell_type": "code",
   "execution_count": 15,
   "metadata": {},
   "outputs": [
    {
     "data": {
      "text/html": [
       "<div>\n",
       "<style scoped>\n",
       "    .dataframe tbody tr th:only-of-type {\n",
       "        vertical-align: middle;\n",
       "    }\n",
       "\n",
       "    .dataframe tbody tr th {\n",
       "        vertical-align: top;\n",
       "    }\n",
       "\n",
       "    .dataframe thead th {\n",
       "        text-align: right;\n",
       "    }\n",
       "</style>\n",
       "<table border=\"1\" class=\"dataframe\">\n",
       "  <thead>\n",
       "    <tr style=\"text-align: right;\">\n",
       "      <th></th>\n",
       "      <th>0</th>\n",
       "    </tr>\n",
       "  </thead>\n",
       "  <tbody>\n",
       "    <tr>\n",
       "      <td>month</td>\n",
       "      <td>3.311429</td>\n",
       "    </tr>\n",
       "    <tr>\n",
       "      <td>hour</td>\n",
       "      <td>5.197327</td>\n",
       "    </tr>\n",
       "    <tr>\n",
       "      <td>year</td>\n",
       "      <td>0.000000</td>\n",
       "    </tr>\n",
       "    <tr>\n",
       "      <td>weekday</td>\n",
       "      <td>3.430318</td>\n",
       "    </tr>\n",
       "    <tr>\n",
       "      <td>lon</td>\n",
       "      <td>44.884995</td>\n",
       "    </tr>\n",
       "    <tr>\n",
       "      <td>lat</td>\n",
       "      <td>43.175930</td>\n",
       "    </tr>\n",
       "  </tbody>\n",
       "</table>\n",
       "</div>"
      ],
      "text/plain": [
       "                 0\n",
       "month     3.311429\n",
       "hour      5.197327\n",
       "year      0.000000\n",
       "weekday   3.430318\n",
       "lon      44.884995\n",
       "lat      43.175930"
      ]
     },
     "execution_count": 15,
     "metadata": {},
     "output_type": "execute_result"
    }
   ],
   "source": [
    "pd.DataFrame(100*clf.feature_importances_ , index = a_train.columns)"
   ]
  },
  {
   "cell_type": "code",
   "execution_count": 16,
   "metadata": {},
   "outputs": [
    {
     "name": "stdout",
     "output_type": "stream",
     "text": [
      "--------------  RandomForestClassifier  ------------------\n",
      "recall : 0.88\n",
      "precision : 0.81\n",
      "f1 : 0.84\n",
      "accuracy : 0.86\n",
      "---------------------------------------------------\n"
     ]
    }
   ],
   "source": [
    "#random forest\n",
    "\n",
    "# Fitting the classifier into the Training set\n",
    "#X_train2 , X_test2 = X_train[[\"lat\" , \"lon\" ]]  , X_test[[\"lat\" , \"lon\" ]]\n",
    "from sklearn.ensemble import RandomForestClassifier\n",
    "from sklearn.metrics import *\n",
    "classifier = RandomForestClassifier(n_estimators = 100)\n",
    "for i in range(0,2):\n",
    "    classifier.fit(X_train[i],y_train[i])\n",
    "\n",
    "# Predicting the test set results\n",
    "\n",
    "#for i in range(0,2):\n",
    "y_Pred = classifier.predict(X_test)\n",
    "\n",
    "printScores(y_test, y_Pred, \"RandomForestClassifier\")\n"
   ]
  },
  {
   "cell_type": "code",
   "execution_count": null,
   "metadata": {},
   "outputs": [],
   "source": []
  },
  {
   "cell_type": "code",
   "execution_count": null,
   "metadata": {},
   "outputs": [],
   "source": []
  }
 ],
 "metadata": {
  "kernelspec": {
   "display_name": "Python 3",
   "language": "python",
   "name": "python3"
  },
  "language_info": {
   "codemirror_mode": {
    "name": "ipython",
    "version": 3
   },
   "file_extension": ".py",
   "mimetype": "text/x-python",
   "name": "python",
   "nbconvert_exporter": "python",
   "pygments_lexer": "ipython3",
   "version": "3.7.4"
  }
 },
 "nbformat": 4,
 "nbformat_minor": 1
}
